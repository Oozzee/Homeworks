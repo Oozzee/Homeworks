{
 "cells": [
  {
   "cell_type": "code",
   "execution_count": 1,
   "metadata": {},
   "outputs": [],
   "source": [
    "import pandas as pd\n",
    "\n",
    "from sklearn.model_selection import train_test_split\n",
    "from sklearn.ensemble import RandomForestRegressor\n",
    "from sklearn.metrics import r2_score"
   ]
  },
  {
   "cell_type": "code",
   "execution_count": 2,
   "metadata": {},
   "outputs": [],
   "source": [
    "def square(df):\n",
    "# Исправляем сомнительную площадь\n",
    "    df.loc[(df['Square'] < 20) & (df['Square'] < df['LifeSquare']), 'Square'] = df['LifeSquare']\n",
    "    return df"
   ]
  },
  {
   "cell_type": "code",
   "execution_count": 3,
   "metadata": {},
   "outputs": [],
   "source": [
    "def rooms(df):\n",
    "# Корректируем кол-во комнат со значением 0 и > 5, исходя из площади\n",
    "    df.loc[df['Rooms'] > 5, 'Rooms'] = 0\n",
    "    df.loc[(df['Square'] > 115) & (df['Rooms'] == 0), 'Rooms'] = 5\n",
    "    df.loc[(df['Square'] > 88) & (df['Rooms'] == 0), 'Rooms'] = 4\n",
    "    df.loc[(df['Square'] > 66) & (df['Rooms'] == 0), 'Rooms'] = 3\n",
    "    df.loc[(df['Square'] > 48) & (df['Rooms'] == 0), 'Rooms'] = 2\n",
    "    df.loc[df['Rooms'] == 0, 'Rooms'] = 1\n",
    "    return df"
   ]
  },
  {
   "cell_type": "code",
   "execution_count": 4,
   "metadata": {},
   "outputs": [],
   "source": [
    "def house_floor(df):\n",
    "# Нулевую этажность дома заменяем этажом квартиры\n",
    "# Этаж квартиры больше этажности дома заменяем этажом дома или наоборот\n",
    "    df.loc[df['HouseFloor'] == 0, 'HouseFloor'] = df[df['HouseFloor'] == 0].Floor\n",
    "    df.loc[df['Floor'] > df['HouseFloor'], 'HouseFloor'] = df['Floor']\n",
    "    return df"
   ]
  },
  {
   "cell_type": "code",
   "execution_count": 5,
   "metadata": {},
   "outputs": [],
   "source": [
    "def house_year(df):\n",
    "# Допускаем, что года 2019 и 2020 - квартиры планируемые к сдаче.\n",
    "# Некорректные даты корректируем.\n",
    "    df.loc[df['HouseYear'] == 4968, 'HouseYear'] = 1968\n",
    "    df.loc[df['HouseYear'] == 20052011, 'HouseYear'] = 2008\n",
    "    return df"
   ]
  },
  {
   "cell_type": "code",
   "execution_count": 6,
   "metadata": {},
   "outputs": [],
   "source": [
    "def to_int(df):\n",
    "    # Приведение признаков к int\n",
    "    df['Ecology_2'] = (df['Ecology_2'] == 'A').astype(int)\n",
    "    df['Ecology_3'] = (df['Ecology_3'] == 'A').astype(int)\n",
    "    df['Shops_2'] = (df['Shops_2'] == 'A').astype(int)\n",
    "    return df"
   ]
  },
  {
   "cell_type": "code",
   "execution_count": 7,
   "metadata": {},
   "outputs": [],
   "source": [
    "def prepare(df):\n",
    "    df = square(df)\n",
    "    df = rooms(df)\n",
    "    df = house_floor(df)\n",
    "    df = house_year(df)\n",
    "    df = to_int(df)\n",
    "    return df"
   ]
  },
  {
   "cell_type": "code",
   "execution_count": 8,
   "metadata": {},
   "outputs": [],
   "source": [
    "df = pd.read_csv('input/train.csv')\n",
    "df = prepare(df)"
   ]
  },
  {
   "cell_type": "code",
   "execution_count": 9,
   "metadata": {},
   "outputs": [
    {
     "name": "stdout",
     "output_type": "stream",
     "text": [
      "train = (5625, 20). valid = (1875, 20). test = (2500, 20).\n"
     ]
    }
   ],
   "source": [
    "df, test = train_test_split(df, test_size=0.25, random_state=3)\n",
    "train, valid = train_test_split(df, test_size=0.25, random_state=344)\n",
    "print(f'train = {train.shape}. valid = {valid.shape}. test = {test.shape}.')"
   ]
  },
  {
   "cell_type": "code",
   "execution_count": 10,
   "metadata": {},
   "outputs": [],
   "source": [
    "feat = ['DistrictId', 'Square', 'Floor', 'HouseFloor', 'HouseYear',\n",
    "        'Ecology_1', 'Social_2', 'Social_3', 'Helthcare_2', 'Shops_1']"
   ]
  },
  {
   "cell_type": "code",
   "execution_count": 11,
   "metadata": {},
   "outputs": [],
   "source": [
    "model = RandomForestRegressor(n_estimators=300,\n",
    "                              max_depth=24,\n",
    "                              max_features=4,\n",
    "                              min_samples_leaf=1,\n",
    "                              min_samples_split=5,\n",
    "                              min_impurity_decrease=0.1,\n",
    "                              random_state=443,\n",
    "                              n_jobs=-1)"
   ]
  },
  {
   "cell_type": "code",
   "execution_count": 12,
   "metadata": {},
   "outputs": [
    {
     "name": "stdout",
     "output_type": "stream",
     "text": [
      "             Важность\n",
      "Square       0.458526\n",
      "Social_2     0.128076\n",
      "Social_3     0.086659\n",
      "DistrictId   0.076359\n",
      "HouseYear    0.062839\n",
      "Ecology_1    0.051053\n",
      "HouseFloor   0.040665\n",
      "Floor        0.037108\n",
      "Shops_1      0.033570\n",
      "Helthcare_2  0.025145\n"
     ]
    }
   ],
   "source": [
    "model.fit(train.loc[:, feat], train['Price'])\n",
    "print(pd.DataFrame({'Важность': model.feature_importances_},\n",
    "                   index=feat).nlargest(len(feat), 'Важность'))"
   ]
  },
  {
   "cell_type": "code",
   "execution_count": 13,
   "metadata": {},
   "outputs": [
    {
     "name": "stdout",
     "output_type": "stream",
     "text": [
      "train = 0.9310147666903942. valid = 0.7506711299029404. test = 0.7531103312431794.\n"
     ]
    }
   ],
   "source": [
    "r2_train = r2_score(train['Price'], model.predict(train.loc[:, feat]))\n",
    "r2_valid = r2_score(valid['Price'], model.predict(valid.loc[:, feat]))\n",
    "r2_test = r2_score(test['Price'], model.predict(test.loc[:, feat]))\n",
    "print(f'train = {r2_train}. valid = {r2_valid}. test = {r2_test}.')"
   ]
  },
  {
   "cell_type": "code",
   "execution_count": 14,
   "metadata": {},
   "outputs": [
    {
     "data": {
      "text/plain": [
       "RandomForestRegressor(bootstrap=True, criterion='mse', max_depth=24,\n",
       "           max_features=4, max_leaf_nodes=None, min_impurity_decrease=0.1,\n",
       "           min_impurity_split=None, min_samples_leaf=1,\n",
       "           min_samples_split=5, min_weight_fraction_leaf=0.0,\n",
       "           n_estimators=300, n_jobs=-1, oob_score=False, random_state=443,\n",
       "           verbose=0, warm_start=False)"
      ]
     },
     "execution_count": 14,
     "metadata": {},
     "output_type": "execute_result"
    }
   ],
   "source": [
    "model.fit(df.loc[:, feat], df['Price'])"
   ]
  },
  {
   "cell_type": "code",
   "execution_count": 15,
   "metadata": {},
   "outputs": [
    {
     "name": "stdout",
     "output_type": "stream",
     "text": [
      "train = 0.9323708483483609. valid = 0.9400401248266173. test = 0.7647775798645988.\n"
     ]
    }
   ],
   "source": [
    "r2_train = r2_score(train['Price'], model.predict(train.loc[:, feat]))\n",
    "r2_valid = r2_score(valid['Price'], model.predict(valid.loc[:, feat]))\n",
    "r2_test = r2_score(test['Price'], model.predict(test.loc[:, feat]))\n",
    "print(f'train = {r2_train}. valid = {r2_valid}. test = {r2_test}.')"
   ]
  },
  {
   "cell_type": "code",
   "execution_count": 18,
   "metadata": {},
   "outputs": [],
   "source": [
    "data = pd.read_csv('input/test.csv')\n",
    "data = prepare(data)"
   ]
  },
  {
   "cell_type": "code",
   "execution_count": 19,
   "metadata": {},
   "outputs": [
    {
     "name": "stdout",
     "output_type": "stream",
     "text": [
      "<class 'pandas.core.frame.DataFrame'>\n",
      "RangeIndex: 5000 entries, 0 to 4999\n",
      "Data columns (total 19 columns):\n",
      "Id               5000 non-null int64\n",
      "DistrictId       5000 non-null int64\n",
      "Rooms            5000 non-null float64\n",
      "Square           5000 non-null float64\n",
      "LifeSquare       3959 non-null float64\n",
      "KitchenSquare    5000 non-null float64\n",
      "Floor            5000 non-null int64\n",
      "HouseFloor       5000 non-null float64\n",
      "HouseYear        5000 non-null int64\n",
      "Ecology_1        5000 non-null float64\n",
      "Ecology_2        5000 non-null int32\n",
      "Ecology_3        5000 non-null int32\n",
      "Social_1         5000 non-null int64\n",
      "Social_2         5000 non-null int64\n",
      "Social_3         5000 non-null int64\n",
      "Healthcare_1     2623 non-null float64\n",
      "Helthcare_2      5000 non-null int64\n",
      "Shops_1          5000 non-null int64\n",
      "Shops_2          5000 non-null int32\n",
      "dtypes: float64(7), int32(3), int64(9)\n",
      "memory usage: 683.7 KB\n"
     ]
    }
   ],
   "source": [
    "data.info()"
   ]
  },
  {
   "cell_type": "code",
   "execution_count": 20,
   "metadata": {},
   "outputs": [],
   "source": [
    "data['Price'] = model.predict(data.loc[:,feat])"
   ]
  },
  {
   "cell_type": "code",
   "execution_count": 21,
   "metadata": {},
   "outputs": [
    {
     "data": {
      "text/html": [
       "<div>\n",
       "<style scoped>\n",
       "    .dataframe tbody tr th:only-of-type {\n",
       "        vertical-align: middle;\n",
       "    }\n",
       "\n",
       "    .dataframe tbody tr th {\n",
       "        vertical-align: top;\n",
       "    }\n",
       "\n",
       "    .dataframe thead th {\n",
       "        text-align: right;\n",
       "    }\n",
       "</style>\n",
       "<table border=\"1\" class=\"dataframe\">\n",
       "  <thead>\n",
       "    <tr style=\"text-align: right;\">\n",
       "      <th></th>\n",
       "      <th>Id</th>\n",
       "      <th>DistrictId</th>\n",
       "      <th>Rooms</th>\n",
       "      <th>Square</th>\n",
       "      <th>LifeSquare</th>\n",
       "      <th>KitchenSquare</th>\n",
       "      <th>Floor</th>\n",
       "      <th>HouseFloor</th>\n",
       "      <th>HouseYear</th>\n",
       "      <th>Ecology_1</th>\n",
       "      <th>Ecology_2</th>\n",
       "      <th>Ecology_3</th>\n",
       "      <th>Social_1</th>\n",
       "      <th>Social_2</th>\n",
       "      <th>Social_3</th>\n",
       "      <th>Healthcare_1</th>\n",
       "      <th>Helthcare_2</th>\n",
       "      <th>Shops_1</th>\n",
       "      <th>Shops_2</th>\n",
       "      <th>Price</th>\n",
       "    </tr>\n",
       "  </thead>\n",
       "  <tbody>\n",
       "    <tr>\n",
       "      <th>0</th>\n",
       "      <td>725</td>\n",
       "      <td>58</td>\n",
       "      <td>2.0</td>\n",
       "      <td>49.882643</td>\n",
       "      <td>33.432782</td>\n",
       "      <td>6.0</td>\n",
       "      <td>6</td>\n",
       "      <td>14.0</td>\n",
       "      <td>1972</td>\n",
       "      <td>0.310199</td>\n",
       "      <td>0</td>\n",
       "      <td>0</td>\n",
       "      <td>11</td>\n",
       "      <td>2748</td>\n",
       "      <td>1</td>\n",
       "      <td>NaN</td>\n",
       "      <td>0</td>\n",
       "      <td>0</td>\n",
       "      <td>0</td>\n",
       "      <td>161695.725556</td>\n",
       "    </tr>\n",
       "    <tr>\n",
       "      <th>1</th>\n",
       "      <td>15856</td>\n",
       "      <td>74</td>\n",
       "      <td>2.0</td>\n",
       "      <td>69.263183</td>\n",
       "      <td>NaN</td>\n",
       "      <td>1.0</td>\n",
       "      <td>6</td>\n",
       "      <td>6.0</td>\n",
       "      <td>1977</td>\n",
       "      <td>0.075779</td>\n",
       "      <td>0</td>\n",
       "      <td>0</td>\n",
       "      <td>6</td>\n",
       "      <td>1437</td>\n",
       "      <td>3</td>\n",
       "      <td>NaN</td>\n",
       "      <td>0</td>\n",
       "      <td>2</td>\n",
       "      <td>0</td>\n",
       "      <td>233108.211406</td>\n",
       "    </tr>\n",
       "    <tr>\n",
       "      <th>2</th>\n",
       "      <td>5480</td>\n",
       "      <td>190</td>\n",
       "      <td>1.0</td>\n",
       "      <td>15.948246</td>\n",
       "      <td>15.948246</td>\n",
       "      <td>12.0</td>\n",
       "      <td>2</td>\n",
       "      <td>5.0</td>\n",
       "      <td>1909</td>\n",
       "      <td>0.000000</td>\n",
       "      <td>0</td>\n",
       "      <td>0</td>\n",
       "      <td>30</td>\n",
       "      <td>7538</td>\n",
       "      <td>87</td>\n",
       "      <td>4702.0</td>\n",
       "      <td>5</td>\n",
       "      <td>5</td>\n",
       "      <td>0</td>\n",
       "      <td>289154.711984</td>\n",
       "    </tr>\n",
       "    <tr>\n",
       "      <th>3</th>\n",
       "      <td>15664</td>\n",
       "      <td>47</td>\n",
       "      <td>2.0</td>\n",
       "      <td>73.046609</td>\n",
       "      <td>51.940842</td>\n",
       "      <td>9.0</td>\n",
       "      <td>22</td>\n",
       "      <td>22.0</td>\n",
       "      <td>2007</td>\n",
       "      <td>0.101872</td>\n",
       "      <td>0</td>\n",
       "      <td>0</td>\n",
       "      <td>23</td>\n",
       "      <td>4583</td>\n",
       "      <td>3</td>\n",
       "      <td>NaN</td>\n",
       "      <td>3</td>\n",
       "      <td>3</td>\n",
       "      <td>0</td>\n",
       "      <td>353369.999284</td>\n",
       "    </tr>\n",
       "    <tr>\n",
       "      <th>4</th>\n",
       "      <td>14275</td>\n",
       "      <td>27</td>\n",
       "      <td>1.0</td>\n",
       "      <td>47.527111</td>\n",
       "      <td>43.387569</td>\n",
       "      <td>1.0</td>\n",
       "      <td>17</td>\n",
       "      <td>17.0</td>\n",
       "      <td>2017</td>\n",
       "      <td>0.072158</td>\n",
       "      <td>0</td>\n",
       "      <td>0</td>\n",
       "      <td>2</td>\n",
       "      <td>629</td>\n",
       "      <td>1</td>\n",
       "      <td>NaN</td>\n",
       "      <td>0</td>\n",
       "      <td>0</td>\n",
       "      <td>1</td>\n",
       "      <td>143921.820028</td>\n",
       "    </tr>\n",
       "  </tbody>\n",
       "</table>\n",
       "</div>"
      ],
      "text/plain": [
       "      Id  DistrictId  Rooms     Square  LifeSquare  KitchenSquare  Floor  \\\n",
       "0    725          58    2.0  49.882643   33.432782            6.0      6   \n",
       "1  15856          74    2.0  69.263183         NaN            1.0      6   \n",
       "2   5480         190    1.0  15.948246   15.948246           12.0      2   \n",
       "3  15664          47    2.0  73.046609   51.940842            9.0     22   \n",
       "4  14275          27    1.0  47.527111   43.387569            1.0     17   \n",
       "\n",
       "   HouseFloor  HouseYear  Ecology_1  Ecology_2  Ecology_3  Social_1  Social_2  \\\n",
       "0        14.0       1972   0.310199          0          0        11      2748   \n",
       "1         6.0       1977   0.075779          0          0         6      1437   \n",
       "2         5.0       1909   0.000000          0          0        30      7538   \n",
       "3        22.0       2007   0.101872          0          0        23      4583   \n",
       "4        17.0       2017   0.072158          0          0         2       629   \n",
       "\n",
       "   Social_3  Healthcare_1  Helthcare_2  Shops_1  Shops_2          Price  \n",
       "0         1           NaN            0        0        0  161695.725556  \n",
       "1         3           NaN            0        2        0  233108.211406  \n",
       "2        87        4702.0            5        5        0  289154.711984  \n",
       "3         3           NaN            3        3        0  353369.999284  \n",
       "4         1           NaN            0        0        1  143921.820028  "
      ]
     },
     "execution_count": 21,
     "metadata": {},
     "output_type": "execute_result"
    }
   ],
   "source": [
    "data.head()"
   ]
  },
  {
   "cell_type": "code",
   "execution_count": 23,
   "metadata": {},
   "outputs": [],
   "source": [
    "data[['Id', 'Price']].to_csv('YKhoroshylov_predictions.csv', index=None)"
   ]
  },
  {
   "cell_type": "code",
   "execution_count": null,
   "metadata": {},
   "outputs": [],
   "source": []
  }
 ],
 "metadata": {
  "kernelspec": {
   "display_name": "Python 3",
   "language": "python",
   "name": "python3"
  },
  "language_info": {
   "codemirror_mode": {
    "name": "ipython",
    "version": 3
   },
   "file_extension": ".py",
   "mimetype": "text/x-python",
   "name": "python",
   "nbconvert_exporter": "python",
   "pygments_lexer": "ipython3",
   "version": "3.7.1"
  }
 },
 "nbformat": 4,
 "nbformat_minor": 2
}
